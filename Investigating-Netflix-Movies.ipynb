{
  "nbformat": 4,
  "nbformat_minor": 0,
  "metadata": {
    "colab": {
      "provenance": []
    },
    "kernelspec": {
      "name": "python3",
      "display_name": "Python 3"
    },
    "language_info": {
      "name": "python"
    }
  },
  "cells": [
    {
      "cell_type": "code",
      "execution_count": null,
      "metadata": {
        "id": "dAoifbtORdhD",
        "colab": {
          "base_uri": "https://localhost:8080/"
        },
        "outputId": "016321c9-f401-4f45-d6b3-1f1d14205b48"
      },
      "outputs": [
        {
          "output_type": "stream",
          "name": "stdout",
          "text": [
            "  show_id     type  title           director  \\\n",
            "0      s2    Movie   7:19  Jorge Michel Grau   \n",
            "1      s3    Movie  23:59       Gilbert Chan   \n",
            "2      s4    Movie      9        Shane Acker   \n",
            "3      s5    Movie     21     Robert Luketic   \n",
            "4      s6  TV Show     46        Serdar Akar   \n",
            "\n",
            "                                                cast        country  \\\n",
            "0  Demián Bichir, Héctor Bonilla, Oscar Serrano, ...         Mexico   \n",
            "1  Tedd Chan, Stella Chung, Henley Hii, Lawrence ...      Singapore   \n",
            "2  Elijah Wood, John C. Reilly, Jennifer Connelly...  United States   \n",
            "3  Jim Sturgess, Kevin Spacey, Kate Bosworth, Aar...  United States   \n",
            "4  Erdal Beşikçioğlu, Yasemin Allen, Melis Birkan...         Turkey   \n",
            "\n",
            "          date_added  release_year  duration  \\\n",
            "0  December 23, 2016          2016        93   \n",
            "1  December 20, 2018          2011        78   \n",
            "2  November 16, 2017          2009        80   \n",
            "3    January 1, 2020          2008       123   \n",
            "4       July 1, 2017          2016         1   \n",
            "\n",
            "                                         description             genre  \n",
            "0  After a devastating earthquake hits Mexico Cit...            Dramas  \n",
            "1  When an army recruit is found dead, his fellow...     Horror Movies  \n",
            "2  In a postapocalyptic world, rag-doll robots hi...            Action  \n",
            "3  A brilliant group of students become card-coun...            Dramas  \n",
            "4  A genetics professor experiments with a treatm...  International TV  \n"
          ]
        }
      ],
      "source": [
        "import pandas as pd\n",
        "import numpy as np\n",
        "import matplotlib.pyplot as plt\n",
        "\n",
        "# Importando o CSV da Netflix como um DataFrame\n",
        "netflix_df = pd.read_csv(\"/content/drive/MyDrive/CSVs/netflix_data.csv\")\n",
        "print(netflix_df.head())"
      ]
    },
    {
      "cell_type": "code",
      "source": [
        "print(netflix_df.info())\n",
        "print(netflix_df.columns)"
      ],
      "metadata": {
        "colab": {
          "base_uri": "https://localhost:8080/"
        },
        "id": "CZGmlXOrMX2x",
        "outputId": "0bc0841b-0b67-4a1d-ef01-88426dd7667e"
      },
      "execution_count": null,
      "outputs": [
        {
          "output_type": "stream",
          "name": "stdout",
          "text": [
            "<class 'pandas.core.frame.DataFrame'>\n",
            "RangeIndex: 4812 entries, 0 to 4811\n",
            "Data columns (total 11 columns):\n",
            " #   Column        Non-Null Count  Dtype \n",
            "---  ------        --------------  ----- \n",
            " 0   show_id       4812 non-null   object\n",
            " 1   type          4812 non-null   object\n",
            " 2   title         4812 non-null   object\n",
            " 3   director      4812 non-null   object\n",
            " 4   cast          4812 non-null   object\n",
            " 5   country       4812 non-null   object\n",
            " 6   date_added    4812 non-null   object\n",
            " 7   release_year  4812 non-null   int64 \n",
            " 8   duration      4812 non-null   int64 \n",
            " 9   description   4812 non-null   object\n",
            " 10  genre         4812 non-null   object\n",
            "dtypes: int64(2), object(9)\n",
            "memory usage: 413.7+ KB\n",
            "None\n",
            "Index(['show_id', 'type', 'title', 'director', 'cast', 'country', 'date_added',\n",
            "       'release_year', 'duration', 'description', 'genre'],\n",
            "      dtype='object')\n"
          ]
        }
      ]
    },
    {
      "cell_type": "code",
      "source": [
        "# Filtrando as colunas que serão úteis no projeto\n",
        "filmes_filtrados = netflix_df[[\"title\", \"release_year\", \"duration\", \"genre\"]]\n",
        "\n",
        "# Modelando dados e preparando para análise\n",
        "filmes_1990 = filmes_filtrados[(filmes_filtrados[\"release_year\"] >= 1990 ) & ( filmes_filtrados[\"release_year\"] <= 1999)].sort_values(by='release_year')\n",
        "print(filmes_1990.to_string(index=False))"
      ],
      "metadata": {
        "id": "ragr0E1-R5oy",
        "colab": {
          "base_uri": "https://localhost:8080/"
        },
        "outputId": "8932fe9a-5159-4bda-d3ee-367f80a6c662"
      },
      "execution_count": null,
      "outputs": [
        {
          "output_type": "stream",
          "name": "stdout",
          "text": [
            "                                                  title  release_year  duration          genre\n",
            "                            In Defense of a Married Man          1990        94         Dramas\n",
            "                                                Rocky V          1990       104         Dramas\n",
            "                                                 Ghayal          1990       163         Action\n",
            "                                      Look Out, Officer          1990        88         Action\n",
            "                                             GoodFellas          1990       145 Classic Movies\n",
            "                                Tim Allen: Men Are Pigs          1990        30       Stand-Up\n",
            "                                           Total Recall          1990       114         Action\n",
            "                                     Quigley Down Under          1990       120         Action\n",
            "                                                Tremors          1990        96       Comedies\n",
            "                                       Unspeakable Acts          1990        95         Dramas\n",
            "                                              Agneepath          1990       174         Dramas\n",
            "                               Ken Burns: The Civil War          1990         1     Docuseries\n",
            "                                                    Dil          1990       165       Comedies\n",
            "                                                  Shiva          1990       168         Action\n",
            "                       Escape from the \"Liberty\" Cinema          1990        88       Comedies\n",
            "                                                Shikari          1991       163         Dramas\n",
            "                 Sam Kinison: Family Entertainment Hour          1991        49       Stand-Up\n",
            "Teenage Mutant Ninja Turtles II: The Secret of the Ooze          1991        88       Children\n",
            "                            Bill Hicks: One Night Stand          1991        28       Stand-Up\n",
            "                             Sam Kinison: Live in Vegas          1991        71       Stand-Up\n",
            "                                     Solo Con Tu Pareja          1991        94       Comedies\n",
            "                                            Out of Life          1991        94 Classic Movies\n",
            "                                     The Last Boy Scout          1991       105         Action\n",
            "                                  Daughters of the Dust          1991       112 Classic Movies\n",
            "                     An American Tail: Fievel Goes West          1991        75       Children\n",
            "                                   Triumph of the Heart          1991        93         Dramas\n",
            "                                       Victim of Beauty          1991        93         Dramas\n",
            "                                                   Hook          1991       142       Children\n",
            "                                                My Girl          1991       102         Dramas\n",
            "                                           Passenger 57          1992        84         Action\n",
            "                               Like Water for Chocolate          1992       105 Classic Movies\n",
            "                                      Justice, My Foot!          1992        95         Action\n",
            "                        Denis Leary: No Cure For Cancer          1992        62       Stand-Up\n",
            "                                          Patriot Games          1992       117         Action\n",
            "                                            Howards End          1992       143 Classic Movies\n",
            "                                         Basic Instinct          1992       128 Classic Movies\n",
            "                                        The Crying Game          1992       112 Classic Movies\n",
            "                                            Bebe's Kids          1992        73       Comedies\n",
            "                                 Bill Hicks: Relentless          1992        61       Stand-Up\n",
            "                                              Chamatkar          1992       164       Comedies\n",
            "                             The Last Days of Chez Nous          1992        93 Classic Movies\n",
            "                                          Casino Tycoon          1992       125         Action\n",
            "                                        Casino Tycoon 2          1992       108         Action\n",
            "                                      Strictly Ballroom          1992        95 Classic Movies\n",
            "                                               Candyman          1992        99    Cult Movies\n",
            "                            What's Eating Gilbert Grape          1993       118 Classic Movies\n",
            "                                           Aashik Awara          1993       154         Dramas\n",
            "                                              Khalnayak          1993       170         Action\n",
            "                                      The Pelican Brief          1993       141         Dramas\n",
            "                                      A Dangerous Woman          1993       101         Dramas\n",
            "                                           Maya Memsaab          1993       122         Dramas\n",
            "                                           The Mad Monk          1993        85       Comedies\n",
            "                                             Free Willy          1993       112       Children\n",
            "                                                 Gumrah          1993       149         Action\n",
            "                                           Class of '61          1993        91         Dramas\n",
            "                                           Philadelphia          1993       126 Classic Movies\n",
            "                                Bill Hicks: Revelations          1993        56       Stand-Up\n",
            "                                       Schindler's List          1993       195 Classic Movies\n",
            "                            Searching for Bobby Fischer          1993       110       Children\n",
            "                                    The Bare-Footed Kid          1993        83         Action\n",
            "                                                 Sliver          1993       107      Thrillers\n",
            "                                           The Emigrant          1994       130         Dramas\n",
            "                                           Pulp Fiction          1994       154 Classic Movies\n",
            "                                             Wyatt Earp          1994       191         Action\n",
            "                                    The Next Karate Kid          1994       107         Action\n",
            "                                               The Crow          1994       102         Action\n",
            "                                         The River Wild          1994       111         Action\n",
            "                                   Kabhi Haan Kabhi Naa          1994       151       Comedies\n",
            "                                        The Flintstones          1994        91       Children\n",
            "                                       Love on Delivery          1994        93         Action\n",
            "                                            Yaar Gaddar          1994       148         Dramas\n",
            "                      Auschwitz: Blueprints of Genocide          1994        49  Documentaries\n",
            "                                    Hum Aapke Hain Koun          1994       193 Classic Movies\n",
            "                            Four Weddings and a Funeral          1994       118 Classic Movies\n",
            "                                        Andaz Apna Apna          1994       160         Action\n",
            "                                              GoldenEye          1995       130         Action\n",
            "                                           Now and Then          1995       102         Dramas\n",
            "                               Oh Darling Yeh Hai India          1995       154         Action\n",
            "                                               Trimurti          1995       173         Action\n",
            "                                                Barsaat          1995       166         Action\n",
            "       To Wong Foo, Thanks for Everything! Julie Newmar          1995       108       Comedies\n",
            "                                             Loving You          1995        79         Dramas\n",
            "                                 The American President          1995       113       Comedies\n",
            "                                    Rumble in the Bronx          1995        89         Action\n",
            "                                                  Balto          1995        78       Children\n",
            "                                               Bad Boys          1995       119         Action\n",
            "                                              Ram Jaane          1995       142         Dramas\n",
            "                                           It Takes Two          1995       101       Children\n",
            "                          How to Make an American Quilt          1995       116         Dramas\n",
            "                                  Kicking and Screaming          1995        97       Comedies\n",
            "                             The Indian in the Cupboard          1995        96       Children\n",
            "                                     Executive Decision          1996       133         Action\n",
            "                                            Primal Fear          1996       131         Dramas\n",
            "                                     The Trigger Effect          1996        94      Thrillers\n",
            "                                            Dragonheart          1996       103         Action\n",
            "                                  English Babu Desi Mem          1996       163       Comedies\n",
            "                                                Kingpin          1996       114       Comedies\n",
            "                                   The First Wives Club          1996       103       Comedies\n",
            "                                        Raja Hindustani          1996       177         Dramas\n",
            "                                              The Craft          1996       101  Horror Movies\n",
            "                                            Sling Blade          1996       135         Dramas\n",
            "                        Beavis and Butt-head Do America          1996        81       Comedies\n",
            "                                          Trainspotting          1996        94       Comedies\n",
            "                                             Striptease          1996       117       Comedies\n",
            "                                                Chaahat          1996       148         Dramas\n",
            "                        A Thin Line Between Love & Hate          1996       108       Comedies\n",
            "                                            Chasing Amy          1997       113       Comedies\n",
            "                                               Scream 2          1997       121  Horror Movies\n",
            "                                          Donnie Brasco          1997       127         Dramas\n",
            "                                  The End of Evangelion          1997        87         Action\n",
            "                                           Dante's Peak          1997       108         Action\n",
            "                                                Destiny          1997       136         Dramas\n",
            "                      Bean: The Ultimate Disaster Movie          1997        89       Comedies\n",
            "                                                    187          1997       119         Dramas\n",
            "                                                 Pardes          1997       187         Dramas\n",
            "                                         The Peacemaker          1997       124         Action\n",
            "                                           Jackie Brown          1997       154         Dramas\n",
            "                                                 Judwaa          1997       133       Comedies\n",
            "                                     How to Be a Player          1997        94       Comedies\n",
            "                                                   Hero          1997        89         Action\n",
            "                                         Kiss the Girls          1997       116      Thrillers\n",
            "                                               Lifeline          1997       104         Action\n",
            "                                    Tomorrow Never Dies          1997       119         Action\n",
            "                                            Good Burger          1997        96       Children\n",
            "                                     As Good as It Gets          1997       139       Comedies\n",
            "                                             Love Jones          1997       109       Comedies\n",
            "                                      Ghulam-E-Musthafa          1997       161         Action\n",
            "                                           Men in Black          1997        98         Action\n",
            "                                            Money Talks          1997        96         Action\n",
            "                                          The Rainmaker          1997       136         Dramas\n",
            "                                          Event Horizon          1997        96  Horror Movies\n",
            "            Austin Powers: International Man of Mystery          1997        90       Comedies\n",
            "                                      The Mask of Zorro          1998       138         Action\n",
            "                                            BASEketball          1998       103       Comedies\n",
            "                                          The Interview          1998       101    Cult Movies\n",
            "                                     American History X          1998       119         Dramas\n",
            "                                      The Rugrats Movie          1998        81       Children\n",
            "                                 A Night at the Roxbury          1998        82       Comedies\n",
            "                                           The Waterboy          1998        90       Comedies\n",
            "                                      Can't Hardly Wait          1998       101       Comedies\n",
            "                                                 Dil Se          1998       166         Dramas\n",
            "                         Fear and Loathing in Las Vegas          1998       118       Comedies\n",
            "                                          One Last Shot          1998        31       Comedies\n",
            "                    Lock, Stock and Two Smoking Barrels          1998       108         Action\n",
            "                                                 Fallen          1998       124      Thrillers\n",
            "                                     Pizza, birra, faso          1998        81         Dramas\n",
            "                              EVANGELION: DEATH (TRUE)²          1998        69         Action\n",
            "                                        Kurt & Courtney          1998        95  Documentaries\n",
            "                                                   Qila          1998       161         Dramas\n",
            "                                      Edge of Seventeen          1998       103       Comedies\n",
            "                                     Kuch Kuch Hota Hai          1998       185       Comedies\n",
            "                                               Rounders          1998       121         Dramas\n",
            "                                                Head On          1998       104         Dramas\n",
            "                            Scooby-Doo on Zombie Island          1998        77       Children\n",
            "                                         Small Soldiers          1998       110         Action\n",
            "                                                Soldier          1998       155       Comedies\n",
            "      Jerry Seinfeld: I'm Telling You for the Last Time          1998        69       Stand-Up\n",
            "                                              Duplicate          1998       165       Comedies\n",
            "                                               Magnolia          1999       189         Dramas\n",
            "                                        American Beauty          1999       122         Dramas\n",
            "     An American Tail: The Mystery of the Night Monster          1999        75       Children\n",
            "                                   Haseena Maan Jaayegi          1999       151         Action\n",
            "                                          Hello Brother          1999       126         Action\n",
            "                                            West Beirut          1999       106         Dramas\n",
            "                                         Wild Wild West          1999       106         Action\n",
            "                                  Together For Eternity          1999       176         Dramas\n",
            "                                                   Mann          1999       173         Dramas\n",
            "                                                   Taal          1999       177         Dramas\n",
            "                                         Mansfield Park          1999       112       Comedies\n",
            "                                               Nang Nak          1999       101  Horror Movies\n",
            "                                The Talented Mr. Ripley          1999       139         Dramas\n",
            "                                                 Tarzan          1999        89       Children\n",
            "                                              The Other          1999       106         Dramas\n",
            "                  Austin Powers: The Spy Who Shagged Me          1999        95         Action\n",
            "                                             The Matrix          1999       136         Action\n",
            "                                          Runaway Bride          1999       116       Comedies\n",
            "                                        Double Jeopardy          1999       105      Thrillers\n",
            "                                 Sexo, Pudor y Lagrimas          1999       111       Comedies\n",
            "                                          Stuart Little          1999        85       Children\n",
            "                                              Big Daddy          1999        93       Comedies\n",
            "                                              Superstar          1999        82       Comedies\n",
            "                                            Blue Streak          1999        94         Action\n",
            "                                The World Is Not Enough          1999       128         Action\n",
            "                                   Hum Saath-Saath Hain          1999       176         Dramas\n"
          ]
        }
      ]
    },
    {
      "cell_type": "code",
      "source": [
        "print(filmes_1990.count())"
      ],
      "metadata": {
        "colab": {
          "base_uri": "https://localhost:8080/"
        },
        "id": "xVSYwvPFNX_i",
        "outputId": "2b7a825a-cf11-4142-8c7a-d3f5df5d9959"
      },
      "execution_count": null,
      "outputs": [
        {
          "output_type": "stream",
          "name": "stdout",
          "text": [
            "title           184\n",
            "release_year    184\n",
            "duration        184\n",
            "genre           184\n",
            "dtype: int64\n"
          ]
        }
      ]
    },
    {
      "cell_type": "code",
      "source": [
        "# Calculando a mediana da duração dos filmes\n",
        "median = int(np.median(filmes_1990[\"duration\"]))\n",
        "\n",
        "# Representação gráfica\n",
        "plt.hist(filmes_1990['duration'], bins=10, color='#009944')\n",
        "plt.axvline(median, color='blue', linestyle='dashed', linewidth=2)\n",
        "plt.xlabel('Tempo em minutos')\n",
        "plt.ylabel('Filmes')\n",
        "plt.title('Duração de filmes da década de 90')\n",
        "plt.show()\n",
        "print(f\"\\nA duração mais frequente dos filmes na década de 90 é de {median} minutos.\")"
      ],
      "metadata": {
        "id": "qduvc_lLR_Gq",
        "colab": {
          "base_uri": "https://localhost:8080/",
          "height": 508
        },
        "outputId": "990660f5-53d7-4497-aeb5-c64bc343604c"
      },
      "execution_count": null,
      "outputs": [
        {
          "output_type": "display_data",
          "data": {
            "text/plain": [
              "<Figure size 640x480 with 1 Axes>"
            ],
            "image/png": "[encoded data removed]"
          },
          "metadata": {}
        },
        {
          "output_type": "stream",
          "name": "stdout",
          "text": [
            "\n",
            "A duração mais frequente dos filmes na década de 90 é de 108 minutos.\n"
          ]
        }
      ]
    },
    {
      "cell_type": "code",
      "source": [
        "# Filmes de ação considerados curtos\n",
        "movie_count = []\n",
        "\n",
        "for index, row in filmes_1990.iterrows():\n",
        "    if row['duration'] < 90 and row['genre'] == 'Comedies':\n",
        "        movie_count.append(row['title'])\n",
        "    short_movie_count = len(movie_count)\n",
        "\n",
        "print(\"Os filmes comédia considerados curtos são:\\n\")\n",
        "for i, filme in enumerate(movie_count, start=1):\n",
        "    print(f\"{i}. {filme}\")"
      ],
      "metadata": {
        "id": "q0Rsknq2SB9q",
        "colab": {
          "base_uri": "https://localhost:8080/"
        },
        "outputId": "8d72e3e6-355f-42fa-feb8-676f724e2ab7"
      },
      "execution_count": null,
      "outputs": [
        {
          "output_type": "stream",
          "name": "stdout",
          "text": [
            "Os filmes comédia considerados curtos são:\n",
            "\n",
            "1. Escape from the \"Liberty\" Cinema\n",
            "2. Bebe's Kids\n",
            "3. The Mad Monk\n",
            "4. Beavis and Butt-head Do America\n",
            "5. Bean: The Ultimate Disaster Movie\n",
            "6. A Night at the Roxbury\n",
            "7. One Last Shot\n",
            "8. Superstar\n"
          ]
        }
      ]
    }
  ]
}