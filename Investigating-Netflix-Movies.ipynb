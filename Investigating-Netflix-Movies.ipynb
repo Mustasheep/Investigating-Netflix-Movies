{
  "nbformat": 4,
  "nbformat_minor": 0,
  "metadata": {
    "colab": {
      "provenance": []
    },
    "kernelspec": {
      "name": "python3",
      "display_name": "Python 3"
    },
    "language_info": {
      "name": "python"
    }
  },
  "cells": [
    {
      "cell_type": "code",
      "execution_count": null,
      "metadata": {
        "id": "dAoifbtORdhD"
      },
      "outputs": [],
      "source": [
        "import pandas as pd\n",
        "import numpy as np\n",
        "import matplotlib.pyplot as plt\n",
        "\n",
        "# Importando o CSV da Netflix como um DataFrame\n",
        "netflix_df = pd.read_csv(\"netflix_data.csv\")\n",
        "print(netflix_df.head())"
      ]
    },
    {
      "cell_type": "code",
      "source": [
        "print(netflix_df.info())\n",
        "print(netflix_df.columns)"
      ],
      "metadata": {
        "id": "CZGmlXOrMX2x"
      },
      "execution_count": null,
      "outputs": []
    },
    {
      "cell_type": "code",
      "source": [
        "# Filtrando as colunas que serão úteis no projeto\n",
        "filmes_filtrados = netflix_df[[\"title\", \"release_year\", \"duration\", \"genre\"]]\n",
        "\n",
        "# Modelando dados e preparando para análise\n",
        "filmes_1990 = filmes_filtrados[(filmes_filtrados[\"release_year\"] >= 1990 ) & ( filmes_filtrados[\"release_year\"] <= 1999)].sort_values(by='release_year')\n",
        "print(filmes_1990.to_string(index=False))"
      ],
      "metadata": {
        "id": "ragr0E1-R5oy"
      },
      "execution_count": null,
      "outputs": []
    },
    {
      "cell_type": "code",
      "source": [
        "print(filmes_1990.count())"
      ],
      "metadata": {
        "id": "xVSYwvPFNX_i"
      },
      "execution_count": null,
      "outputs": []
    },
    {
      "cell_type": "code",
      "source": [
        "# Calculando a mediana da duração dos filmes\n",
        "median = int(np.median(filmes_1990[\"duration\"]))\n",
        "\n",
        "# Representação gráfica\n",
        "plt.hist(filmes_1990['duration'], bins=10, color='#009944')\n",
        "plt.axvline(median, color='blue', linestyle='dashed', linewidth=2)\n",
        "plt.xlabel('Tempo em minutos')\n",
        "plt.ylabel('Filmes')\n",
        "plt.title('Duração de filmes da década de 90')\n",
        "plt.show()\n",
        "print(f\"\\nA duração mais frequente dos filmes na década de 90 é de {median} minutos.\")"
      ],
      "metadata": {
        "id": "qduvc_lLR_Gq"
      },
      "execution_count": null,
      "outputs": []
    },
    {
      "cell_type": "code",
      "source": [
        "# Filmes de ação considerados curtos\n",
        "movie_count = []\n",
        "\n",
        "for index, row in filmes_1990.iterrows():\n",
        "    if row['duration'] < 90 and row['genre'] == 'Children':\n",
        "        movie_count.append(row['title'])\n",
        "    short_movie_count = len(movie_count)\n",
        "\n",
        "print(\"Os filmes infantis considerados curtos são:\\n\")\n",
        "for i, filme in enumerate(movie_count, start=1):\n",
        "    print(f\"{i}. {filme}\")"
      ],
      "metadata": {
        "id": "q0Rsknq2SB9q"
      },
      "execution_count": null,
      "outputs": []
    }
  ]
}